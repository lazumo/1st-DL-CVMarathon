{
 "cells": [
  {
   "cell_type": "markdown",
   "metadata": {},
   "source": [
    "# PTT 網路爬蟲實作練習\n",
    "\n",
    "\n",
    "* 能夠利用 Request + BeatifulSour 撰寫爬蟲，並存放到合適的資料結構\n"
   ]
  },
  {
   "cell_type": "markdown",
   "metadata": {},
   "source": [
    "## 作業目標\n",
    "\n",
    "根據範例 ，完成以下問題：\n",
    "\n",
    "* ① 印出最新文章的「作者」「標題」「時間」\n",
    "* ② 印出第一頁所有文章的「作者」「標題」「時間」\n"
   ]
  },
  {
   "cell_type": "markdown",
   "metadata": {},
   "source": [
    "### ① 印出最新文章的「作者」「標題」「時間」"
   ]
  },
  {
   "cell_type": "code",
   "execution_count": 14,
   "metadata": {},
   "outputs": [
    {
     "name": "stdout",
     "output_type": "stream",
     "text": [
      "[BOX ] Magic 101:108 Sixers 數據\n",
      "發文者 Rambo\n",
      "日期 8/08\n"
     ]
    }
   ],
   "source": [
    "import requests\n",
    "from bs4 import BeautifulSoup\n",
    "\n",
    "url = 'https://www.ptt.cc/bbs/NBA/index.html'\n",
    "r = requests.get(url)\n",
    "\n",
    "soup = BeautifulSoup(r.text, \"html5lib\")\n",
    "d=soup.find_all(class_=\"r-ent\")[0]\n",
    "print(d.find(class_=\"title\").text.replace('\\t', '').replace('\\n', ''))\n",
    "print(\"發文者\",d.find(class_=\"author\").text)\n",
    "print(\"日期\",d.find(class_=\"date\").text.replace(\" \",\"\"))"
   ]
  },
  {
   "cell_type": "markdown",
   "metadata": {},
   "source": [
    "### ② 印出第一頁所有文章的「作者」「標題」「時間」"
   ]
  },
  {
   "cell_type": "code",
   "execution_count": 15,
   "metadata": {},
   "outputs": [
    {
     "name": "stdout",
     "output_type": "stream",
     "text": [
      "[BOX ] Magic 101:108 Sixers 數據\n",
      "發文者 Rambo\n",
      "日期 8/08\n",
      "[花邊] Draymond Green希望 D. Booker離開太陽\n",
      "發文者 zqAI3yGOAT\n",
      "日期 8/08\n",
      "[討論] 巔峰Boozer/巔峰Draymond Green 選哪個？\n",
      "發文者 jerry9233\n",
      "日期 8/08\n",
      "[BOX ] Wizards 107:118 Pelicans 數據\n",
      "發文者 Rambo\n",
      "日期 8/08\n",
      "[BOX ] Celtics 122:100 Raptors 數據\n",
      "發文者 Rambo\n",
      "日期 8/08\n",
      "[公告] 板規v6.8\n",
      "發文者 Vedan\n",
      "日期 5/24\n",
      "[公告] 第一次被退文，可在三天後刪除退文\n",
      "發文者 Vedan\n",
      "日期 3/09\n",
      "[情報] SEASON Schedule 賽程 August 19–20\n",
      "發文者 Acetoxy\n",
      "日期 7/31\n",
      "[公告] 20賽季若有季後賽 登入調整為720次 \n",
      "發文者 namie810303\n",
      "日期 7/13\n"
     ]
    }
   ],
   "source": [
    "import requests\n",
    "from bs4 import BeautifulSoup\n",
    "\n",
    "url = 'https://www.ptt.cc/bbs/NBA/index.html'\n",
    "r = requests.get(url)\n",
    "\n",
    "soup = BeautifulSoup(r.text, \"html5lib\")\n",
    "for d in soup.find_all(class_=\"r-ent\"):\n",
    "    print(d.find(class_=\"title\").text.replace('\\t', '').replace('\\n', ''))\n",
    "    print(\"發文者\",d.find(class_=\"author\").text)\n",
    "    print(\"日期\",d.find(class_=\"date\").text.replace(\" \",\"\"))"
   ]
  },
  {
   "cell_type": "markdown",
   "metadata": {},
   "source": [
    "### ③ 試著爬爬看其他版的文章"
   ]
  },
  {
   "cell_type": "code",
   "execution_count": 16,
   "metadata": {},
   "outputs": [
    {
     "name": "stdout",
     "output_type": "stream",
     "text": [
      "[找文] 被神明指定的巫女\n",
      "發文者 cos180\n",
      "日期 8/07\n",
      "[經驗] 隧道奇譚\n",
      "發文者 z8120810\n",
      "日期 8/08\n",
      "[創作] 殺人魔的最終告白 04\n",
      "發文者 zzz122eee\n",
      "日期 8/08\n",
      "[找文] 尋找一篇創作的文章\n",
      "發文者 AwayFromReal\n",
      "日期 8/08\n",
      "[公告] Marvel板規(20190728)\n",
      "發文者 a6234709\n",
      "日期 4/16\n",
      "[公告] 宣導事項\n",
      "發文者 a6234709\n",
      "日期 7/02\n",
      "[公告] 八月份置底閒聊區\n",
      "發文者 a6234709\n",
      "日期 8/01\n",
      "[公告] 八月份置底檢舉區\n",
      "發文者 a6234709\n",
      "日期 8/01\n"
     ]
    }
   ],
   "source": [
    "url = 'https://www.ptt.cc/bbs/marvel/index.html'\n",
    "r = requests.get(url)\n",
    "\n",
    "soup = BeautifulSoup(r.text, \"html5lib\")\n",
    "for d in soup.find_all(class_=\"r-ent\"):\n",
    "    print(d.find(class_=\"title\").text.replace('\\t', '').replace('\\n', ''))\n",
    "    print(\"發文者\",d.find(class_=\"author\").text)\n",
    "    print(\"日期\",d.find(class_=\"date\").text.replace(\" \",\"\"))\n"
   ]
  },
  {
   "cell_type": "code",
   "execution_count": null,
   "metadata": {},
   "outputs": [],
   "source": []
  }
 ],
 "metadata": {
  "kernelspec": {
   "display_name": "Python 3",
   "language": "python",
   "name": "python3"
  },
  "language_info": {
   "codemirror_mode": {
    "name": "ipython",
    "version": 3
   },
   "file_extension": ".py",
   "mimetype": "text/x-python",
   "name": "python",
   "nbconvert_exporter": "python",
   "pygments_lexer": "ipython3",
   "version": "3.7.3"
  }
 },
 "nbformat": 4,
 "nbformat_minor": 2
}
