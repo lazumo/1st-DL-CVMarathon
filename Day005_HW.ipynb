{
 "cells": [
  {
   "cell_type": "markdown",
   "metadata": {},
   "source": [
    "# API 資料串接 - 以 Dcard API 實作範例\n",
    "\n",
    "* 了解 Dcard API 使用方式與回傳內容\n",
    "* 撰寫程式存取 API 且解析 JSON 格式資料\n"
   ]
  },
  {
   "cell_type": "markdown",
   "metadata": {},
   "source": [
    "## 作業目標\n",
    "\n",
    "* 請利用 API: https://www.dcard.tw/_api/forums/pet/posts?popular=true 回答下列問題：\n",
    "\n",
    "1. 這個 API 一次會回傳幾筆資料？每一筆資料包含哪些欄位？\n",
    "2. 取出每一筆資料的「標題」、「貼文時間」、「留言人數」、「按讚人數」\n",
    "3. 計算熱門/非熱門文章的「平均留言人數」與「平均按讚人數」"
   ]
  },
  {
   "cell_type": "code",
   "execution_count": 25,
   "metadata": {},
   "outputs": [
    {
     "name": "stdout",
     "output_type": "stream",
     "text": [
      "import okay\n",
      "data loaded\n",
      "這個api每次回傳 30 資料\n",
      "每筆包含以下欄位\n",
      "['id', 'title', 'excerpt', 'anonymousSchool', 'anonymousDepartment', 'pinned', 'forumId', 'replyId', 'createdAt', 'updatedAt', 'commentCount', 'likeCount', 'withNickname', 'tags', 'topics', 'meta', 'forumName', 'forumAlias', 'nsfw', 'gender', 'school', 'replyTitle', 'mediaMeta', 'reactions', 'hidden', 'customStyle', 'isSuspiciousAccount', 'layout', 'withImages', 'withVideos', 'media', 'reportReasonText', 'postAvatar']\n"
     ]
    }
   ],
   "source": [
    "# 1. 這個 API 一次會回傳幾筆資料？每一筆資料包含哪些欄位？\n",
    "import requests\n",
    "import json\n",
    "print(\"import okay\")\n",
    "r = requests.get('https://www.dcard.tw/_api/forums/pet/posts?popular=true')\n",
    "response_pop = json.loads(r.text)\n",
    "r = requests.get('https://www.dcard.tw/_api/forums/pet/posts?popular=false')\n",
    "response_nonpop = json.loads(r.text)\n",
    "print(\"data loaded\")\n",
    "\n",
    "print(\"這個api每次回傳\",len(response_pop),\"資料\")\n",
    "print(\"每筆包含以下欄位\")\n",
    "print(list(response_pop[0].keys()))"
   ]
  },
  {
   "cell_type": "code",
   "execution_count": 27,
   "metadata": {},
   "outputs": [
    {
     "name": "stdout",
     "output_type": "stream",
     "text": [
      "我的寵物鴨生蛋了🥚🦆 2020-08-04T10:05:07.448Z <class 'int'> 994\n",
      "#純曬貓#圖 2020-08-04T00:57:14.813Z <class 'int'> 318\n",
      "（更）有空其實可以帶貓咪出去走走 2020-08-04T04:37:25.894Z <class 'int'> 245\n",
      "不想回家 2020-08-05T04:54:17.285Z <class 'int'> 205\n",
      "雙胞胎鴨🦆 2020-08-04T09:59:46.371Z <class 'int'> 176\n",
      "我會把你當成是家 2020-08-04T15:06:36.227Z <class 'int'> 66\n",
      "我家貓有哆啦A⋯ 2020-08-04T09:15:17.467Z <class 'int'> 44\n",
      "真的是夜貓子.. 2020-08-04T08:46:00.185Z <class 'int'> 36\n",
      "自己營造案發現場的貓🤦‍♀️ 2020-08-05T02:06:37.560Z <class 'int'> 30\n",
      "原意是心疼卻被無知害死的可憐兔兔 2020-08-04T17:33:39.033Z <class 'int'> 22\n",
      "我家貓咪看到奴才回家的反應 2020-08-05T08:38:25.984Z <class 'int'> 19\n",
      "遺失柴柴（8/3下午） 2020-08-04T13:21:10.995Z <class 'int'> 19\n",
      "#天竺鼠 兒子生日快樂🎈 2020-08-05T02:59:57.044Z <class 'int'> 18\n",
      "已找到主人#急 誰家的狗狗 新光三越站前店旁邊 2020-08-04T14:11:22.110Z <class 'int'> 18\n",
      "瘋了瘋了 葉佩貓 2020-08-04T03:12:08.303Z <class 'int'> 15\n",
      "誤上養兔子這條賊船（文長） 2020-08-04T10:06:21.753Z <class 'int'> 13\n",
      "貓貓疊疊樂 2020-08-05T05:16:58.433Z <class 'int'> 12\n",
      "貓咪大法師 2020-08-04T15:16:33.855Z <class 'int'> 12\n",
      "【提問】黏人貓貓很愛叫 2020-08-04T08:14:46.352Z <class 'int'> 12\n",
      "與貓出門的日常 2020-08-05T07:46:42.917Z <class 'int'> 9\n",
      "寵物似顏繪 2020-08-04T11:54:05.138Z <class 'int'> 9\n",
      "被貓抓傷要打破傷風嗎 2020-08-04T07:14:19.239Z <class 'int'> 8\n",
      "‼️尋狗啟示‼️ 2020-08-04T15:05:03.169Z <class 'int'> 6\n",
      "協尋貓貓！ 2020-08-04T14:49:12.323Z <class 'int'> 5\n",
      "帶貓去咖啡廳 2020-08-04T14:17:54.697Z <class 'int'> 5\n",
      "請問你們的狗狗也會這樣一直舔人嗎？ 2020-08-05T00:14:02.133Z <class 'int'> 4\n",
      "請問3個月的公柴大約幾公斤 2020-08-05T08:35:38.782Z <class 'int'> 3\n",
      "小奶貓怎麼辦？ 2020-08-05T10:15:58.203Z <class 'int'> 2\n",
      "養到李榮浩 2020-08-05T08:49:34.521Z <class 'int'> 2\n",
      "天竺鼠幾歲可以吃水果呢？ 2020-08-05T06:48:23.278Z <class 'int'> 2\n"
     ]
    }
   ],
   "source": [
    "# 2. 取出每一筆資料的「標題」、「貼文時間」、「留言人數」、「按讚人數」\n",
    "\n",
    "for d in response_pop:\n",
    "    print(d['title'],d['createdAt'],d['commentCount'],d['likeCount'])"
   ]
  },
  {
   "cell_type": "code",
   "execution_count": 29,
   "metadata": {},
   "outputs": [
    {
     "name": "stdout",
     "output_type": "stream",
     "text": [
      "熱門文章的「平均留言人數」為 7.433333333333334 「平均按讚人數」為 77.63333333333334\n",
      "非熱門文章的「平均留言人數」為 1.8333333333333333 「平均按讚人數」為 15.166666666666666\n"
     ]
    }
   ],
   "source": [
    "# 3. 計算熱門/非熱門文章的「平均留言人數」與「平均按讚人數」\n",
    "Sum_com=0\n",
    "Sum_like=0\n",
    "for d in response_pop:\n",
    "    Sum_com+=d['commentCount']\n",
    "    Sum_like+=d['likeCount']\n",
    "print(\"熱門文章的「平均留言人數」為\",Sum_com/30,\"「平均按讚人數」為\",Sum_like/30)\n",
    "Sum_com=0\n",
    "Sum_like=0\n",
    "for d in response_nonpop:\n",
    "    Sum_com+=d['commentCount']\n",
    "    Sum_like+=d['likeCount']\n",
    "print(\"非熱門文章的「平均留言人數」為\",Sum_com/30,\"「平均按讚人數」為\",Sum_like/30)\n"
   ]
  },
  {
   "cell_type": "code",
   "execution_count": null,
   "metadata": {},
   "outputs": [],
   "source": []
  },
  {
   "cell_type": "code",
   "execution_count": null,
   "metadata": {},
   "outputs": [],
   "source": []
  }
 ],
 "metadata": {
  "kernelspec": {
   "display_name": "Python 3",
   "language": "python",
   "name": "python3"
  },
  "language_info": {
   "codemirror_mode": {
    "name": "ipython",
    "version": 3
   },
   "file_extension": ".py",
   "mimetype": "text/x-python",
   "name": "python",
   "nbconvert_exporter": "python",
   "pygments_lexer": "ipython3",
   "version": "3.7.3"
  }
 },
 "nbformat": 4,
 "nbformat_minor": 2
}
